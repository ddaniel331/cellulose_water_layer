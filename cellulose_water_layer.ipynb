{
 "cells": [
  {
   "cell_type": "code",
   "execution_count": 1,
   "metadata": {},
   "outputs": [],
   "source": [
    "import matplotlib.pyplot as plt\n",
    "import numpy as np\n",
    "import glob\n",
    "import os\n",
    "import seaborn as sns\n",
    "import pandas as pd\n",
    "\n",
    "sns.set_style(\"ticks\")\n",
    "\n",
    "def plot_data_2(fig, ax):\n",
    "    ls_1 = 1.0\n",
    "    ls_2 = 1.0\n",
    "    ls_3 = 0.8\n",
    "\n",
    "    ms = 8 # marker size\n",
    "    fs_1 = 7\n",
    "    fs_2 = 7\n",
    "    \n",
    "    ax.tick_params(axis='x', labelsize=fs_1)\n",
    "    ax.tick_params(axis='y', labelsize=fs_1)\n",
    "\n",
    "    scale = 1.8\n",
    "    fig.set_size_inches(scale*1.6,scale*1.6)\n",
    "\n",
    "    ax.xaxis.set_tick_params(length=3)\n",
    "    ax.yaxis.set_tick_params(length=3)\n",
    "    \n",
    "    for axis in ['top','bottom','left','right']:\n",
    "      ax.spines[axis].set_linewidth(1.1)"
   ]
  },
  {
   "cell_type": "markdown",
   "metadata": {},
   "source": [
    "# Experimental parameters "
   ]
  },
  {
   "cell_type": "code",
   "execution_count": 2,
   "metadata": {},
   "outputs": [
    {
     "name": "stdout",
     "output_type": "stream",
     "text": [
      "1.5169652889008332 1.5108092960590491\n",
      "1.344423949946251 1.3389663596455272\n",
      "1.4154332468006552 1.4107622925352428\n"
     ]
    }
   ],
   "source": [
    "# Dielectric materials can be modelled using Cauchy model\n",
    "def Cauchy_n (l, A, B, C=0):\n",
    "    l_um = l/1000\n",
    "    \n",
    "    if type(l) == 'numpy.ndarray':\n",
    "        return [A + B/l**2 + C/l for l in l_um]\n",
    "    else:\n",
    "        return A + B/l_um**2 + C/l_um**4\n",
    "    \n",
    "# Optical proerties of glass (measured using ellipsometer)\n",
    "A_glass = 1.5046\n",
    "B_glass = 0.00420\n",
    "\n",
    "# Optical properties of oil (measured using ellipsometer)\n",
    "A_si = 1.491665          \n",
    "B_si = 0.006025112\n",
    "\n",
    "n_silicone_488 = Cauchy_n(488, A_si, B_si)\n",
    "n_silicone_561 = Cauchy_n(561, A_si, B_si)\n",
    "print(n_silicone_488, n_silicone_561)\n",
    "\n",
    "#optical properties of water\n",
    "A_water = 1.321994\n",
    "B_water = 0.005341558\n",
    "n_water_488 = Cauchy_n(488, A_water, B_water)\n",
    "n_water_561 = Cauchy_n(561, A_water, B_water)\n",
    "print (n_water_488, n_water_561)\n",
    "\n",
    "# thickness of cellulose layer measured using AFM\n",
    "h_dry = 68 # nm\n",
    "h_wet = 126 # nm\n",
    "phi = 68./126 # cellulose content\n",
    "\n",
    "# refractive index of cellulose\n",
    "# https://www.filmetrics.com/refractive-index-database/Cellulose\n",
    "n_cellulose_488 = 1.476\n",
    "n_cellulose_561 = 1.472\n",
    "n_wet_488 = phi*n_cellulose_488 + (1-phi)*n_water_488\n",
    "n_wet_561 = phi*n_cellulose_561 + (1-phi)*n_water_561\n",
    "print (n_wet_488, n_wet_561)\n"
   ]
  },
  {
   "cell_type": "markdown",
   "metadata": {},
   "source": [
    "# Fresnel theory"
   ]
  },
  {
   "cell_type": "code",
   "execution_count": 3,
   "metadata": {},
   "outputs": [],
   "source": [
    "def I_func(l, h_water, h_wet): # h in nm\n",
    "    \n",
    "    n_water = Cauchy_n(l, A_water, B_water)\n",
    "    n_glass = Cauchy_n(l, A_glass, B_glass)\n",
    "    \n",
    "    if l==488:\n",
    "        n_wet = n_wet_488\n",
    "    elif l==561:\n",
    "        n_wet = n_wet_561\n",
    "        \n",
    "    n_oil = Cauchy_n(l, A_si, B_si)\n",
    "    \n",
    "    I1 = (n_wet-n_glass)**2/(n_wet+n_glass)**2\n",
    "    I2 = (n_wet-n_water)**2/(n_wet+n_water)**2\n",
    "    I3 = (n_wet-n_oil)**2/(n_wet+n_oil)**2\n",
    "    \n",
    "    phi_1 = 4*np.pi/l*(n_wet*h_wet)\n",
    "    phi_2 = 4*np.pi/l*(n_wet*h_wet + n_water*h_water) + np.pi\n",
    "    \n",
    "    h_arr = np.linspace(0,1000,1000)\n",
    "    phi_3 = 4*np.pi/l*(n_wet*h_wet + n_water*h_arr) + np.pi\n",
    "    \n",
    "        \n",
    "    I = (I1+I2+I3 + 2*np.sqrt(I1*I2)*np.cos(phi_1) +   \n",
    "        2*np.sqrt(I1*I3)*np.cos(phi_2) + \n",
    "        2*np.sqrt(I2*I3)*np.cos(phi_1-phi_2))\n",
    "    \n",
    "    I_ref = (I1+I2+I3 + 2*np.sqrt(I1*I2)*np.cos(phi_1) +   \n",
    "        2*np.sqrt(I1*I3)*np.cos(phi_3) + \n",
    "        2*np.sqrt(I2*I3)*np.cos(phi_1-phi_3))\n",
    "    \n",
    "    I_min = np.amin(I_ref)\n",
    "    I_max = np.amax(I_ref)\n",
    "    I_norm = (I-I_min)/(I_max-I_min)\n",
    "    return I_norm"
   ]
  },
  {
   "cell_type": "markdown",
   "metadata": {},
   "source": [
    "# Data"
   ]
  },
  {
   "cell_type": "markdown",
   "metadata": {},
   "source": [
    "Normalized intensity for w = 488 nm"
   ]
  },
  {
   "cell_type": "code",
   "execution_count": 4,
   "metadata": {},
   "outputs": [
    {
     "data": {
      "text/plain": [
       "(0.0, 1.05)"
      ]
     },
     "execution_count": 4,
     "metadata": {},
     "output_type": "execute_result"
    },
    {
     "data": {
      "image/png": "[encoded data removed]",
      "text/plain": [
       "<Figure size 432x288 with 1 Axes>"
      ]
     },
     "metadata": {},
     "output_type": "display_data"
    }
   ],
   "source": [
    "df = pd.read_csv('regenerate_cellulose_488nm.csv')\n",
    "x_488 = df.x[10:-10]\n",
    "# I_488_norm = df[\"I_norm\"]\n",
    "I_min = 170\n",
    "I_488_norm = (df[\"I\"][10:-10]-I_min)/(df[\"I_max\"][10:-10]-I_min)\n",
    "I_488_norm = (df[\"I\"][10:-10]-I_min)/(3300-I_min)\n",
    "\n",
    "# I_488_norm = df[\"I\"]/3323\n",
    "\n",
    "plt.plot(x_488, I_488_norm)\n",
    "plt.ylim([0,1.05])"
   ]
  },
  {
   "cell_type": "markdown",
   "metadata": {},
   "source": [
    "Normalized intensity for w = 561 nm"
   ]
  },
  {
   "cell_type": "code",
   "execution_count": 5,
   "metadata": {},
   "outputs": [
    {
     "data": {
      "text/plain": [
       "[<matplotlib.lines.Line2D at 0x7fc4da4611f0>]"
      ]
     },
     "execution_count": 5,
     "metadata": {},
     "output_type": "execute_result"
    },
    {
     "data": {
      "image/png": "[encoded data removed]",
      "text/plain": [
       "<Figure size 432x288 with 1 Axes>"
      ]
     },
     "metadata": {},
     "output_type": "display_data"
    }
   ],
   "source": [
    "df = pd.read_csv('regenerate_cellulose_561nm.csv')\n",
    "x_561 = df.x[10:-10]\n",
    "I_min = 130\n",
    "\n",
    "I_561_norm = (df[\"I\"][10:-10]-I_min)/(4050-I_min)\n",
    "I_561_norm = (df[\"I\"][10:-10]-I_min)/(df[\"I_max\"][10:-10]-I_min)\n",
    "\n",
    "plt.plot(x_561, I_561_norm)"
   ]
  },
  {
   "cell_type": "code",
   "execution_count": 6,
   "metadata": {},
   "outputs": [
    {
     "data": {
      "image/png": "[encoded data removed]",
      "text/plain": [
       "<Figure size 207.36x207.36 with 1 Axes>"
      ]
     },
     "metadata": {},
     "output_type": "display_data"
    }
   ],
   "source": [
    "fig_4, ax_4 = plt.subplots()\n",
    "fig_4.set_size_inches([5,5])\n",
    "\n",
    "h_start, h_end = 200, 400\n",
    "\n",
    "h_arr_ref = np.linspace(h_start,h_end,1000)\n",
    "I_arr_488 = I_func(488, h_arr_ref, h_wet)\n",
    "I_arr_561 = I_func(561., h_arr_ref, h_wet)\n",
    "ax_4.plot(I_arr_488, I_arr_561, '-k', alpha=0.5)\n",
    "\n",
    "# add marker\n",
    "h_marker = np.arange(h_start,h_end,10)\n",
    "\n",
    "# plot labels \n",
    "for h_m in h_marker:\n",
    "    x = I_func(488, h_m, h_wet)\n",
    "    y = I_func(561, h_m, h_wet)\n",
    "    \n",
    "    ax_4.scatter(x, y, color=\"k\",edgecolor = \"k\", \n",
    "                 marker='o', s=5, alpha=0.8)\n",
    "    \n",
    "    if (h_m%50==0):\n",
    "        ax_4.text(x-0.02, y-0.04, h_m, fontsize=10)\n",
    "\n",
    "\n",
    "ax_4.scatter(I_488_norm, I_561_norm)\n",
    "\n",
    "ax_4.set_xlim([-0.05,1.05])\n",
    "ax_4.set_ylim([-0.05,1.05])\n",
    "\n",
    "plot_data_2(fig_4, ax_4)"
   ]
  },
  {
   "cell_type": "markdown",
   "metadata": {},
   "source": [
    "# Fit with height"
   ]
  },
  {
   "cell_type": "code",
   "execution_count": 7,
   "metadata": {},
   "outputs": [],
   "source": [
    "def calculate_height_ind(I_1, I_2, I_ref_1, I_ref_2):\n",
    "\n",
    "    err_arr = np.sqrt((I_1-I_ref_1)**2 + (I_2-I_ref_2)**2)\n",
    "    i_min, err_min = np.argmin(err_arr), np.amin(err_arr)\n",
    "    \n",
    "    return h_arr_ref[i_min]\n"
   ]
  },
  {
   "cell_type": "code",
   "execution_count": 8,
   "metadata": {},
   "outputs": [],
   "source": [
    "h_start, h_end = 200, 400\n",
    "\n",
    "h_arr_ref = np.linspace(h_start,h_end,1000)\n",
    "I_arr_488 = I_func(488, h_arr_ref, h_wet)\n",
    "I_arr_561 = I_func(561., h_arr_ref, h_wet)\n",
    "\n",
    "h_arr = np.array([])\n",
    "for i in range(len(I_488_norm)):\n",
    "    I_1 = I_488_norm.values[i]\n",
    "    I_2 = I_561_norm.values[i]\n",
    "    \n",
    "    I_ref_1 = I_arr_488\n",
    "    I_ref_2 = I_arr_561\n",
    "    \n",
    "    h_arr = np.append(h_arr, calculate_height_ind(I_1, I_2, I_ref_1, I_ref_2))"
   ]
  },
  {
   "cell_type": "code",
   "execution_count": 9,
   "metadata": {},
   "outputs": [
    {
     "data": {
      "text/plain": [
       "(0.0, 340.0)"
      ]
     },
     "execution_count": 9,
     "metadata": {},
     "output_type": "execute_result"
    },
    {
     "data": {
      "image/png": "[encoded data removed]",
      "text/plain": [
       "<Figure size 432x288 with 1 Axes>"
      ]
     },
     "metadata": {},
     "output_type": "display_data"
    }
   ],
   "source": [
    "plt.plot(x_488, h_arr)\n",
    "plt.xlim([0, 130])\n",
    "plt.ylim([0, 340])"
   ]
  },
  {
   "cell_type": "markdown",
   "metadata": {},
   "source": [
    "# Plot profiles"
   ]
  },
  {
   "cell_type": "code",
   "execution_count": 10,
   "metadata": {},
   "outputs": [],
   "source": [
    "def plot_data(fig, ax):\n",
    "    ls_1 = 1.0\n",
    "    ls_2 = 1.0\n",
    "    ls_3 = 0.8\n",
    "\n",
    "    ms = 8 # marker size\n",
    "    fs_1 = 7\n",
    "    fs_2 = 7\n",
    "    \n",
    "    ax.tick_params(axis='x', labelsize=fs_1)\n",
    "    ax.tick_params(axis='y', labelsize=fs_1)\n",
    "\n",
    "    scale = 1.0\n",
    "    fig.set_size_inches(scale*2.4,scale*1.2)\n",
    "\n",
    "    ax.xaxis.set_tick_params(length=3)\n",
    "    ax.yaxis.set_tick_params(length=3)\n",
    "    \n",
    "    for axis in ['top','bottom','left','right']:\n",
    "      ax.spines[axis].set_linewidth(1.1)\n",
    "    \n",
    "    \n",
    "def plot_data_2(fig, ax):\n",
    "    ls_1 = 1.0\n",
    "    ls_2 = 1.0\n",
    "    ls_3 = 0.8\n",
    "\n",
    "    ms = 8 # marker size\n",
    "    fs_1 = 7\n",
    "    fs_2 = 7\n",
    "    \n",
    "    ax.tick_params(axis='x', labelsize=fs_1)\n",
    "    ax.tick_params(axis='y', labelsize=fs_1)\n",
    "\n",
    "    scale = 1.0\n",
    "    fig.set_size_inches(scale*4.1,scale*2.0)\n",
    "\n",
    "    ax.xaxis.set_tick_params(length=3)\n",
    "    ax.yaxis.set_tick_params(length=3)\n",
    "    \n",
    "    for axis in ['top','bottom','left','right']:\n",
    "      ax.spines[axis].set_linewidth(1.1)\n",
    "    \n",
    "ls_1 = 1.0\n",
    "ls_2 = 1.0\n",
    "ls_3 = 0.8\n",
    "\n",
    "ms = 8 # marker size\n",
    "fs_1 = 7\n",
    "fs_2 = 7"
   ]
  },
  {
   "cell_type": "code",
   "execution_count": 11,
   "metadata": {},
   "outputs": [
    {
     "data": {
      "image/png": "[encoded data removed]",
      "text/plain": [
       "<Figure size 172.8x86.4 with 1 Axes>"
      ]
     },
     "metadata": {},
     "output_type": "display_data"
    }
   ],
   "source": [
    "fig_b, ax_b = plt.subplots()\n",
    "ax_b.plot(x_488, I_488_norm, '-g', linewidth = ls_1, alpha=0.8)\n",
    "\n",
    "ax_b.set_xlim([0,130])\n",
    "ax_b.set_ylim([0,1.0])\n",
    "ax_b.set_yticks([0,1])\n",
    "plot_data(fig_b, ax_b)\n",
    "\n",
    "I1 = I_func(488., h_arr, h_wet)\n",
    "ax_b.plot(x_488, I1, '--k', alpha=0.5)\n",
    "fig_b.savefig('I_488nm.pdf')"
   ]
  },
  {
   "cell_type": "code",
   "execution_count": 12,
   "metadata": {},
   "outputs": [
    {
     "data": {
      "image/png": "[encoded data removed]",
      "text/plain": [
       "<Figure size 172.8x86.4 with 1 Axes>"
      ]
     },
     "metadata": {},
     "output_type": "display_data"
    }
   ],
   "source": [
    "fig_b, ax_b = plt.subplots()\n",
    "ax_b.plot(x_561, I_561_norm, '-r', linewidth = ls_1, alpha=0.8)\n",
    "\n",
    "ax_b.set_xlim([0,130])\n",
    "ax_b.set_ylim([0,1.0])\n",
    "ax_b.set_yticks([0,1])\n",
    "plot_data(fig_b, ax_b)\n",
    "\n",
    "I1 = I_func(561., h_arr, h_wet)\n",
    "ax_b.plot(x_561, I1, '--k', alpha=0.5)\n",
    "fig_b.savefig('I_561nm.pdf')"
   ]
  },
  {
   "cell_type": "code",
   "execution_count": 13,
   "metadata": {},
   "outputs": [
    {
     "data": {
      "image/png": "[encoded data removed]",
      "text/plain": [
       "<Figure size 295.2x144 with 1 Axes>"
      ]
     },
     "metadata": {},
     "output_type": "display_data"
    }
   ],
   "source": [
    "fig, ax = plt.subplots()\n",
    "ax.plot(x_488, h_arr, '-b', linewidth = ls_1, alpha=0.8)\n",
    "ax.set_xlim([0, 130])\n",
    "ax.set_ylim([-50, 350])\n",
    "ax.set_yticks([0, 100, 200, 300])\n",
    "ax.set_xticks([0, 25, 50, 75, 100, 125])\n",
    "\n",
    "plot_data_2(fig, ax)\n",
    "fig.savefig('film_thickness.pdf')"
   ]
  },
  {
   "cell_type": "code",
   "execution_count": null,
   "metadata": {},
   "outputs": [],
   "source": []
  }
 ],
 "metadata": {
  "kernelspec": {
   "display_name": "Python 3",
   "language": "python",
   "name": "python3"
  },
  "language_info": {
   "codemirror_mode": {
    "name": "ipython",
    "version": 3
   },
   "file_extension": ".py",
   "mimetype": "text/x-python",
   "name": "python",
   "nbconvert_exporter": "python",
   "pygments_lexer": "ipython3",
   "version": "3.8.3"
  }
 },
 "nbformat": 4,
 "nbformat_minor": 4
}
